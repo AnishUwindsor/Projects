{
  "nbformat": 4,
  "nbformat_minor": 0,
  "metadata": {
    "colab": {
      "name": "Reading CSV and json files.ipynb",
      "provenance": [],
      "collapsed_sections": [],
      "authorship_tag": "ABX9TyO8VOd5grX42esd9waWjtFc",
      "include_colab_link": true
    },
    "kernelspec": {
      "name": "python3",
      "display_name": "Python 3"
    },
    "language_info": {
      "name": "python"
    }
  },
  "cells": [
    {
      "cell_type": "markdown",
      "metadata": {
        "id": "view-in-github",
        "colab_type": "text"
      },
      "source": [
        "<a href=\"https://colab.research.google.com/github/AnishUwindsor/Projects/blob/master/Reading_CSV_and_json_files.ipynb\" target=\"_parent\"><img src=\"https://colab.research.google.com/assets/colab-badge.svg\" alt=\"Open In Colab\"/></a>"
      ]
    },
    {
      "cell_type": "code",
      "metadata": {
        "colab": {
          "base_uri": "https://localhost:8080/"
        },
        "id": "wDaGw9IaL2GC",
        "outputId": "9cf0874d-49da-4e75-d17c-6761b191e625"
      },
      "source": [
        "pip install pyspark\n"
      ],
      "execution_count": 1,
      "outputs": [
        {
          "output_type": "stream",
          "text": [
            "Collecting pyspark\n",
            "\u001b[?25l  Downloading https://files.pythonhosted.org/packages/45/b0/9d6860891ab14a39d4bddf80ba26ce51c2f9dc4805e5c6978ac0472c120a/pyspark-3.1.1.tar.gz (212.3MB)\n",
            "\u001b[K     |████████████████████████████████| 212.3MB 65kB/s \n",
            "\u001b[?25hCollecting py4j==0.10.9\n",
            "\u001b[?25l  Downloading https://files.pythonhosted.org/packages/9e/b6/6a4fb90cd235dc8e265a6a2067f2a2c99f0d91787f06aca4bcf7c23f3f80/py4j-0.10.9-py2.py3-none-any.whl (198kB)\n",
            "\u001b[K     |████████████████████████████████| 204kB 19.1MB/s \n",
            "\u001b[?25hBuilding wheels for collected packages: pyspark\n",
            "  Building wheel for pyspark (setup.py) ... \u001b[?25l\u001b[?25hdone\n",
            "  Created wheel for pyspark: filename=pyspark-3.1.1-py2.py3-none-any.whl size=212767604 sha256=e58a8288ffd6e249ec3db079803876025e1078b860a81af4efbd28adbc231fa8\n",
            "  Stored in directory: /root/.cache/pip/wheels/0b/90/c0/01de724414ef122bd05f056541fb6a0ecf47c7ca655f8b3c0f\n",
            "Successfully built pyspark\n",
            "Installing collected packages: py4j, pyspark\n",
            "Successfully installed py4j-0.10.9 pyspark-3.1.1\n"
          ],
          "name": "stdout"
        }
      ]
    },
    {
      "cell_type": "code",
      "metadata": {
        "id": "cVFdJQ-sL5N0"
      },
      "source": [
        "from pyspark.sql import SparkSession"
      ],
      "execution_count": 2,
      "outputs": []
    },
    {
      "cell_type": "code",
      "metadata": {
        "id": "iXY_YDbeL-0i"
      },
      "source": [
        "spark = SparkSession.builder.getOrCreate()"
      ],
      "execution_count": 3,
      "outputs": []
    },
    {
      "cell_type": "code",
      "metadata": {
        "colab": {
          "base_uri": "https://localhost:8080/",
          "height": 222
        },
        "id": "HChPGia6MEYE",
        "outputId": "1a5bf51b-8928-4a76-b4fd-472a3ee60046"
      },
      "source": [
        "spark"
      ],
      "execution_count": 4,
      "outputs": [
        {
          "output_type": "execute_result",
          "data": {
            "text/html": [
              "\n",
              "            <div>\n",
              "                <p><b>SparkSession - in-memory</b></p>\n",
              "                \n",
              "        <div>\n",
              "            <p><b>SparkContext</b></p>\n",
              "\n",
              "            <p><a href=\"http://86d5cda47e80:4040\">Spark UI</a></p>\n",
              "\n",
              "            <dl>\n",
              "              <dt>Version</dt>\n",
              "                <dd><code>v3.1.1</code></dd>\n",
              "              <dt>Master</dt>\n",
              "                <dd><code>local[*]</code></dd>\n",
              "              <dt>AppName</dt>\n",
              "                <dd><code>pyspark-shell</code></dd>\n",
              "            </dl>\n",
              "        </div>\n",
              "        \n",
              "            </div>\n",
              "        "
            ],
            "text/plain": [
              "<pyspark.sql.session.SparkSession at 0x7fb5bdccc090>"
            ]
          },
          "metadata": {
            "tags": []
          },
          "execution_count": 4
        }
      ]
    },
    {
      "cell_type": "markdown",
      "metadata": {
        "id": "C80smZ2TWIDh"
      },
      "source": [
        "#Loading CSV Files"
      ]
    },
    {
      "cell_type": "code",
      "metadata": {
        "id": "xaI430u7MSal"
      },
      "source": [
        "file_path = \"location_temp.csv\"\n",
        "df1 = spark.read.format(\"csv\").option(\"header\",\"true\").load(file_path)"
      ],
      "execution_count": 7,
      "outputs": []
    },
    {
      "cell_type": "code",
      "metadata": {
        "colab": {
          "base_uri": "https://localhost:8080/"
        },
        "id": "RmHQyUl1N74R",
        "outputId": "557ef5d2-ef75-47eb-ed00-6b9bb9cff1c7"
      },
      "source": [
        "df1.head(10)"
      ],
      "execution_count": 8,
      "outputs": [
        {
          "output_type": "execute_result",
          "data": {
            "text/plain": [
              "[Row(event_date='03/04/2019 19:48:06', location_id='loc0', temp_celcius='29'),\n",
              " Row(event_date='03/04/2019 19:53:06', location_id='loc0', temp_celcius='27'),\n",
              " Row(event_date='03/04/2019 19:58:06', location_id='loc0', temp_celcius='28'),\n",
              " Row(event_date='03/04/2019 20:03:06', location_id='loc0', temp_celcius='30'),\n",
              " Row(event_date='03/04/2019 20:08:06', location_id='loc0', temp_celcius='27'),\n",
              " Row(event_date='03/04/2019 20:13:06', location_id='loc0', temp_celcius='27'),\n",
              " Row(event_date='03/04/2019 20:18:06', location_id='loc0', temp_celcius='27'),\n",
              " Row(event_date='03/04/2019 20:23:06', location_id='loc0', temp_celcius='29'),\n",
              " Row(event_date='03/04/2019 20:28:06', location_id='loc0', temp_celcius='32'),\n",
              " Row(event_date='03/04/2019 20:33:06', location_id='loc0', temp_celcius='35')]"
            ]
          },
          "metadata": {
            "tags": []
          },
          "execution_count": 8
        }
      ]
    },
    {
      "cell_type": "code",
      "metadata": {
        "colab": {
          "base_uri": "https://localhost:8080/"
        },
        "id": "YuH4stdTOMsN",
        "outputId": "b571566c-a2b1-4469-f437-f0cddbbfe397"
      },
      "source": [
        "df1.show()"
      ],
      "execution_count": 9,
      "outputs": [
        {
          "output_type": "stream",
          "text": [
            "+-------------------+-----------+------------+\n",
            "|         event_date|location_id|temp_celcius|\n",
            "+-------------------+-----------+------------+\n",
            "|03/04/2019 19:48:06|       loc0|          29|\n",
            "|03/04/2019 19:53:06|       loc0|          27|\n",
            "|03/04/2019 19:58:06|       loc0|          28|\n",
            "|03/04/2019 20:03:06|       loc0|          30|\n",
            "|03/04/2019 20:08:06|       loc0|          27|\n",
            "|03/04/2019 20:13:06|       loc0|          27|\n",
            "|03/04/2019 20:18:06|       loc0|          27|\n",
            "|03/04/2019 20:23:06|       loc0|          29|\n",
            "|03/04/2019 20:28:06|       loc0|          32|\n",
            "|03/04/2019 20:33:06|       loc0|          35|\n",
            "|03/04/2019 20:38:06|       loc0|          32|\n",
            "|03/04/2019 20:43:06|       loc0|          28|\n",
            "|03/04/2019 20:48:06|       loc0|          28|\n",
            "|03/04/2019 20:53:06|       loc0|          32|\n",
            "|03/04/2019 20:58:06|       loc0|          34|\n",
            "|03/04/2019 21:03:06|       loc0|          33|\n",
            "|03/04/2019 21:08:06|       loc0|          27|\n",
            "|03/04/2019 21:13:06|       loc0|          28|\n",
            "|03/04/2019 21:18:06|       loc0|          33|\n",
            "|03/04/2019 21:23:06|       loc0|          28|\n",
            "+-------------------+-----------+------------+\n",
            "only showing top 20 rows\n",
            "\n"
          ],
          "name": "stdout"
        }
      ]
    },
    {
      "cell_type": "code",
      "metadata": {
        "colab": {
          "base_uri": "https://localhost:8080/"
        },
        "id": "GNbKCUf-OTJi",
        "outputId": "efa4e505-9e05-4613-ceff-17c677fdd187"
      },
      "source": [
        "df1.count()"
      ],
      "execution_count": 10,
      "outputs": [
        {
          "output_type": "execute_result",
          "data": {
            "text/plain": [
              "500000"
            ]
          },
          "metadata": {
            "tags": []
          },
          "execution_count": 10
        }
      ]
    },
    {
      "cell_type": "code",
      "metadata": {
        "id": "JpPe63xOOYcH"
      },
      "source": [
        "file_path_no_header = \"utilization.csv\"\n",
        "df2 = spark.read.format(\"csv\").option(\"header\",\"false\").option(\"inferSchema\",\"true\").load(file_path_no_header)"
      ],
      "execution_count": 12,
      "outputs": []
    },
    {
      "cell_type": "code",
      "metadata": {
        "colab": {
          "base_uri": "https://localhost:8080/"
        },
        "id": "oUL4yTDoOzCJ",
        "outputId": "89775e70-8527-4280-ccd2-35b6d4ca5bfc"
      },
      "source": [
        "df2.count()\n"
      ],
      "execution_count": 13,
      "outputs": [
        {
          "output_type": "execute_result",
          "data": {
            "text/plain": [
              "500000"
            ]
          },
          "metadata": {
            "tags": []
          },
          "execution_count": 13
        }
      ]
    },
    {
      "cell_type": "markdown",
      "metadata": {
        "id": "8iUE2htTVw2T"
      },
      "source": [
        "#Renaming Columns Manually"
      ]
    },
    {
      "cell_type": "code",
      "metadata": {
        "colab": {
          "base_uri": "https://localhost:8080/"
        },
        "id": "d5ZQSWSfPA_V",
        "outputId": "371124d0-1d1f-48c4-b2e4-01b2e8d7a8f5"
      },
      "source": [
        "df2.head(10)"
      ],
      "execution_count": 14,
      "outputs": [
        {
          "output_type": "execute_result",
          "data": {
            "text/plain": [
              "[Row(_c0='03/05/2019 08:06:14', _c1=100, _c2=0.57, _c3=0.51, _c4=47),\n",
              " Row(_c0='03/05/2019 08:11:14', _c1=100, _c2=0.47, _c3=0.62, _c4=43),\n",
              " Row(_c0='03/05/2019 08:16:14', _c1=100, _c2=0.56, _c3=0.57, _c4=62),\n",
              " Row(_c0='03/05/2019 08:21:14', _c1=100, _c2=0.57, _c3=0.56, _c4=50),\n",
              " Row(_c0='03/05/2019 08:26:14', _c1=100, _c2=0.35, _c3=0.46, _c4=43),\n",
              " Row(_c0='03/05/2019 08:31:14', _c1=100, _c2=0.41, _c3=0.58, _c4=48),\n",
              " Row(_c0='03/05/2019 08:36:14', _c1=100, _c2=0.57, _c3=0.35, _c4=58),\n",
              " Row(_c0='03/05/2019 08:41:14', _c1=100, _c2=0.41, _c3=0.4, _c4=58),\n",
              " Row(_c0='03/05/2019 08:46:14', _c1=100, _c2=0.53, _c3=0.35, _c4=62),\n",
              " Row(_c0='03/05/2019 08:51:14', _c1=100, _c2=0.51, _c3=0.6, _c4=45)]"
            ]
          },
          "metadata": {
            "tags": []
          },
          "execution_count": 14
        }
      ]
    },
    {
      "cell_type": "code",
      "metadata": {
        "id": "YNRLvD64PCgu"
      },
      "source": [
        "df2 = df2.withColumnRenamed(\"_c0\",\"event_datetime\")\\\n",
        "          .withColumnRenamed(\"_c1\",\"server_id\")\\\n",
        "          .withColumnRenamed(\"_c2\",\"cpu_utilization\")\\\n",
        "          .withColumnRenamed(\"_c3\",\"free_memory\")\\\n",
        "          .withColumnRenamed(\"_c4\",\"session count\")"
      ],
      "execution_count": 15,
      "outputs": []
    },
    {
      "cell_type": "code",
      "metadata": {
        "colab": {
          "base_uri": "https://localhost:8080/"
        },
        "id": "Ln2-zSo2PvE_",
        "outputId": "d45faf0d-0dad-4aad-e12d-6eeec8ed5166"
      },
      "source": [
        "df2.head(10)"
      ],
      "execution_count": 16,
      "outputs": [
        {
          "output_type": "execute_result",
          "data": {
            "text/plain": [
              "[Row(event_datetime='03/05/2019 08:06:14', server_id=100, cpu_utilization=0.57, free_memory=0.51, session count=47),\n",
              " Row(event_datetime='03/05/2019 08:11:14', server_id=100, cpu_utilization=0.47, free_memory=0.62, session count=43),\n",
              " Row(event_datetime='03/05/2019 08:16:14', server_id=100, cpu_utilization=0.56, free_memory=0.57, session count=62),\n",
              " Row(event_datetime='03/05/2019 08:21:14', server_id=100, cpu_utilization=0.57, free_memory=0.56, session count=50),\n",
              " Row(event_datetime='03/05/2019 08:26:14', server_id=100, cpu_utilization=0.35, free_memory=0.46, session count=43),\n",
              " Row(event_datetime='03/05/2019 08:31:14', server_id=100, cpu_utilization=0.41, free_memory=0.58, session count=48),\n",
              " Row(event_datetime='03/05/2019 08:36:14', server_id=100, cpu_utilization=0.57, free_memory=0.35, session count=58),\n",
              " Row(event_datetime='03/05/2019 08:41:14', server_id=100, cpu_utilization=0.41, free_memory=0.4, session count=58),\n",
              " Row(event_datetime='03/05/2019 08:46:14', server_id=100, cpu_utilization=0.53, free_memory=0.35, session count=62),\n",
              " Row(event_datetime='03/05/2019 08:51:14', server_id=100, cpu_utilization=0.51, free_memory=0.6, session count=45)]"
            ]
          },
          "metadata": {
            "tags": []
          },
          "execution_count": 16
        }
      ]
    },
    {
      "cell_type": "code",
      "metadata": {
        "colab": {
          "base_uri": "https://localhost:8080/"
        },
        "id": "r8ip_MRyPyvk",
        "outputId": "bffa280c-42d9-4954-b3bf-760fff309bdd"
      },
      "source": [
        "df2.show()\n"
      ],
      "execution_count": 17,
      "outputs": [
        {
          "output_type": "stream",
          "text": [
            "+-------------------+---------+---------------+-----------+-------------+\n",
            "|     event_datetime|server_id|cpu_utilization|free_memory|session count|\n",
            "+-------------------+---------+---------------+-----------+-------------+\n",
            "|03/05/2019 08:06:14|      100|           0.57|       0.51|           47|\n",
            "|03/05/2019 08:11:14|      100|           0.47|       0.62|           43|\n",
            "|03/05/2019 08:16:14|      100|           0.56|       0.57|           62|\n",
            "|03/05/2019 08:21:14|      100|           0.57|       0.56|           50|\n",
            "|03/05/2019 08:26:14|      100|           0.35|       0.46|           43|\n",
            "|03/05/2019 08:31:14|      100|           0.41|       0.58|           48|\n",
            "|03/05/2019 08:36:14|      100|           0.57|       0.35|           58|\n",
            "|03/05/2019 08:41:14|      100|           0.41|        0.4|           58|\n",
            "|03/05/2019 08:46:14|      100|           0.53|       0.35|           62|\n",
            "|03/05/2019 08:51:14|      100|           0.51|        0.6|           45|\n",
            "|03/05/2019 08:56:14|      100|           0.32|       0.37|           47|\n",
            "|03/05/2019 09:01:14|      100|           0.62|       0.59|           60|\n",
            "|03/05/2019 09:06:14|      100|           0.66|       0.72|           57|\n",
            "|03/05/2019 09:11:14|      100|           0.54|       0.54|           44|\n",
            "|03/05/2019 09:16:14|      100|           0.29|        0.4|           47|\n",
            "|03/05/2019 09:21:14|      100|           0.43|       0.68|           66|\n",
            "|03/05/2019 09:26:14|      100|           0.49|       0.66|           65|\n",
            "|03/05/2019 09:31:14|      100|           0.64|       0.55|           66|\n",
            "|03/05/2019 09:36:14|      100|           0.42|        0.6|           42|\n",
            "|03/05/2019 09:41:14|      100|           0.55|       0.59|           63|\n",
            "+-------------------+---------+---------------+-----------+-------------+\n",
            "only showing top 20 rows\n",
            "\n"
          ],
          "name": "stdout"
        }
      ]
    },
    {
      "cell_type": "markdown",
      "metadata": {
        "id": "4WlzR-jIVofj"
      },
      "source": [
        "#Loading Json Files"
      ]
    },
    {
      "cell_type": "code",
      "metadata": {
        "id": "rgrzZ2BjP1Y6"
      },
      "source": [
        "file_path_json = \"utlization.json\"\n",
        "df2 = spark.read.format(\"json\").load(file_path_json)"
      ],
      "execution_count": 19,
      "outputs": []
    },
    {
      "cell_type": "code",
      "metadata": {
        "colab": {
          "base_uri": "https://localhost:8080/"
        },
        "id": "X5M14PK2Trp2",
        "outputId": "b379ba06-a17d-4eaa-928d-6c406d8726fb"
      },
      "source": [
        "df2.count()\n"
      ],
      "execution_count": 22,
      "outputs": [
        {
          "output_type": "execute_result",
          "data": {
            "text/plain": [
              "500000"
            ]
          },
          "metadata": {
            "tags": []
          },
          "execution_count": 22
        }
      ]
    },
    {
      "cell_type": "code",
      "metadata": {
        "colab": {
          "base_uri": "https://localhost:8080/"
        },
        "id": "-i7l6kX-T39G",
        "outputId": "0a3d2631-acee-43ec-d144-84837f264663"
      },
      "source": [
        "df2.show()"
      ],
      "execution_count": 23,
      "outputs": [
        {
          "output_type": "stream",
          "text": [
            "+---------------+-------------------+-----------+---------+-------------+\n",
            "|cpu_utilization|     event_datetime|free_memory|server_id|session_count|\n",
            "+---------------+-------------------+-----------+---------+-------------+\n",
            "|           0.57|03/05/2019 08:06:14|       0.51|      100|           47|\n",
            "|           0.47|03/05/2019 08:11:14|       0.62|      100|           43|\n",
            "|           0.56|03/05/2019 08:16:14|       0.57|      100|           62|\n",
            "|           0.57|03/05/2019 08:21:14|       0.56|      100|           50|\n",
            "|           0.35|03/05/2019 08:26:14|       0.46|      100|           43|\n",
            "|           0.41|03/05/2019 08:31:14|       0.58|      100|           48|\n",
            "|           0.57|03/05/2019 08:36:14|       0.35|      100|           58|\n",
            "|           0.41|03/05/2019 08:41:14|        0.4|      100|           58|\n",
            "|           0.53|03/05/2019 08:46:14|       0.35|      100|           62|\n",
            "|           0.51|03/05/2019 08:51:14|        0.6|      100|           45|\n",
            "|           0.32|03/05/2019 08:56:14|       0.37|      100|           47|\n",
            "|           0.62|03/05/2019 09:01:14|       0.59|      100|           60|\n",
            "|           0.66|03/05/2019 09:06:14|       0.72|      100|           57|\n",
            "|           0.54|03/05/2019 09:11:14|       0.54|      100|           44|\n",
            "|           0.29|03/05/2019 09:16:14|        0.4|      100|           47|\n",
            "|           0.43|03/05/2019 09:21:14|       0.68|      100|           66|\n",
            "|           0.49|03/05/2019 09:26:14|       0.66|      100|           65|\n",
            "|           0.64|03/05/2019 09:31:14|       0.55|      100|           66|\n",
            "|           0.42|03/05/2019 09:36:14|        0.6|      100|           42|\n",
            "|           0.55|03/05/2019 09:41:14|       0.59|      100|           63|\n",
            "+---------------+-------------------+-----------+---------+-------------+\n",
            "only showing top 20 rows\n",
            "\n"
          ],
          "name": "stdout"
        }
      ]
    },
    {
      "cell_type": "markdown",
      "metadata": {
        "id": "OuYjc0IMVhoL"
      },
      "source": [
        "#Sample and Sort Operations"
      ]
    },
    {
      "cell_type": "code",
      "metadata": {
        "colab": {
          "base_uri": "https://localhost:8080/"
        },
        "id": "RwAa7veMT6JX",
        "outputId": "e3f7ad63-7718-4a7e-ef83-895f4a07d168"
      },
      "source": [
        "df2.columns"
      ],
      "execution_count": 24,
      "outputs": [
        {
          "output_type": "execute_result",
          "data": {
            "text/plain": [
              "['cpu_utilization',\n",
              " 'event_datetime',\n",
              " 'free_memory',\n",
              " 'server_id',\n",
              " 'session_count']"
            ]
          },
          "metadata": {
            "tags": []
          },
          "execution_count": 24
        }
      ]
    },
    {
      "cell_type": "code",
      "metadata": {
        "id": "38-bKunAUY1k"
      },
      "source": [
        "df2_sample = df2.sample(False,fraction=.1)\n"
      ],
      "execution_count": 25,
      "outputs": []
    },
    {
      "cell_type": "code",
      "metadata": {
        "colab": {
          "base_uri": "https://localhost:8080/"
        },
        "id": "D7R-SrTCUq-F",
        "outputId": "cb7c7c10-ba47-4ac9-8e8e-62abb26de082"
      },
      "source": [
        "df2_sample.show()"
      ],
      "execution_count": 26,
      "outputs": [
        {
          "output_type": "stream",
          "text": [
            "+---------------+-------------------+-----------+---------+-------------+\n",
            "|cpu_utilization|     event_datetime|free_memory|server_id|session_count|\n",
            "+---------------+-------------------+-----------+---------+-------------+\n",
            "|           0.57|03/05/2019 08:06:14|       0.51|      100|           47|\n",
            "|           0.41|03/05/2019 08:41:14|        0.4|      100|           58|\n",
            "|           0.53|03/05/2019 08:46:14|       0.35|      100|           62|\n",
            "|           0.43|03/05/2019 09:21:14|       0.68|      100|           66|\n",
            "|           0.61|03/05/2019 09:51:14|       0.34|      100|           70|\n",
            "|           0.63|03/05/2019 10:11:14|       0.63|      100|           59|\n",
            "|            0.4|03/05/2019 10:21:14|       0.55|      100|           52|\n",
            "|           0.49|03/05/2019 10:41:14|       0.65|      100|           59|\n",
            "|           0.55|03/05/2019 10:51:14|       0.42|      100|           60|\n",
            "|           0.49|03/05/2019 12:46:14|       0.56|      100|           62|\n",
            "|           0.56|03/05/2019 13:46:14|       0.42|      100|           49|\n",
            "|           0.39|03/05/2019 15:01:14|       0.52|      100|           48|\n",
            "|           0.58|03/05/2019 15:11:14|       0.54|      100|           49|\n",
            "|            0.4|03/05/2019 16:26:14|       0.72|      100|           51|\n",
            "|           0.33|03/05/2019 17:56:14|       0.71|      100|           43|\n",
            "|           0.43|03/05/2019 18:41:14|       0.48|      100|           66|\n",
            "|           0.53|03/05/2019 18:46:14|       0.52|      100|           54|\n",
            "|           0.61|03/05/2019 19:01:14|       0.45|      100|           38|\n",
            "|           0.49|03/05/2019 19:41:14|       0.37|      100|           55|\n",
            "|           0.38|03/05/2019 21:16:14|       0.34|      100|           46|\n",
            "+---------------+-------------------+-----------+---------+-------------+\n",
            "only showing top 20 rows\n",
            "\n"
          ],
          "name": "stdout"
        }
      ]
    },
    {
      "cell_type": "code",
      "metadata": {
        "id": "UQS1Ag4bUtLv"
      },
      "source": [
        "df2_sort = df2.sort(\"event_datetime\")"
      ],
      "execution_count": 27,
      "outputs": []
    },
    {
      "cell_type": "code",
      "metadata": {
        "colab": {
          "base_uri": "https://localhost:8080/"
        },
        "id": "xjHtg_jTU8Ng",
        "outputId": "6bc85748-29c0-4180-a290-9c1ee5e4f1f5"
      },
      "source": [
        "df2_sort.show()"
      ],
      "execution_count": 29,
      "outputs": [
        {
          "output_type": "stream",
          "text": [
            "+---------------+-------------------+-----------+---------+-------------+\n",
            "|cpu_utilization|     event_datetime|free_memory|server_id|session_count|\n",
            "+---------------+-------------------+-----------+---------+-------------+\n",
            "|           0.57|03/05/2019 08:06:14|       0.51|      100|           47|\n",
            "|           0.86|03/05/2019 08:06:16|       0.09|      101|           93|\n",
            "|           0.61|03/05/2019 08:06:17|       0.12|      102|           71|\n",
            "|           0.64|03/05/2019 08:06:19|       0.32|      103|           96|\n",
            "|           0.84|03/05/2019 08:06:21|       0.36|      104|           94|\n",
            "|           0.54|03/05/2019 08:06:23|       0.38|      105|           74|\n",
            "|            0.4|03/05/2019 08:06:24|       0.39|      106|           43|\n",
            "|           0.64|03/05/2019 08:06:26|       0.55|      107|           56|\n",
            "|           0.62|03/05/2019 08:06:28|       0.41|      108|           86|\n",
            "|            0.7|03/05/2019 08:06:29|       0.59|      109|           77|\n",
            "|           0.68|03/05/2019 08:06:31|       0.44|      110|           47|\n",
            "|           0.48|03/05/2019 08:06:33|       0.25|      111|           70|\n",
            "|           0.71|03/05/2019 08:06:34|       0.27|      112|           86|\n",
            "|           0.69|03/05/2019 08:06:36|       0.38|      113|           71|\n",
            "|           0.48|03/05/2019 08:06:38|       0.48|      114|           52|\n",
            "|           0.78|03/05/2019 08:06:40|       0.22|      115|           62|\n",
            "|            0.4|03/05/2019 08:06:41|       0.53|      116|           51|\n",
            "|           0.71|03/05/2019 08:06:43|       0.61|      117|           60|\n",
            "|           0.78|03/05/2019 08:06:45|       0.45|      118|           68|\n",
            "|           0.51|03/05/2019 08:06:46|       0.49|      119|           53|\n",
            "+---------------+-------------------+-----------+---------+-------------+\n",
            "only showing top 20 rows\n",
            "\n"
          ],
          "name": "stdout"
        }
      ]
    },
    {
      "cell_type": "markdown",
      "metadata": {
        "id": "8UB4NstcVY0H"
      },
      "source": [
        "#Filter Data with DataFrame API"
      ]
    },
    {
      "cell_type": "code",
      "metadata": {
        "colab": {
          "base_uri": "https://localhost:8080/"
        },
        "id": "n-BuRFFjU_Bl",
        "outputId": "d4d72f76-4023-4964-ee73-74d0621adc57"
      },
      "source": [
        "df1.show()"
      ],
      "execution_count": 30,
      "outputs": [
        {
          "output_type": "stream",
          "text": [
            "+-------------------+-----------+------------+\n",
            "|         event_date|location_id|temp_celcius|\n",
            "+-------------------+-----------+------------+\n",
            "|03/04/2019 19:48:06|       loc0|          29|\n",
            "|03/04/2019 19:53:06|       loc0|          27|\n",
            "|03/04/2019 19:58:06|       loc0|          28|\n",
            "|03/04/2019 20:03:06|       loc0|          30|\n",
            "|03/04/2019 20:08:06|       loc0|          27|\n",
            "|03/04/2019 20:13:06|       loc0|          27|\n",
            "|03/04/2019 20:18:06|       loc0|          27|\n",
            "|03/04/2019 20:23:06|       loc0|          29|\n",
            "|03/04/2019 20:28:06|       loc0|          32|\n",
            "|03/04/2019 20:33:06|       loc0|          35|\n",
            "|03/04/2019 20:38:06|       loc0|          32|\n",
            "|03/04/2019 20:43:06|       loc0|          28|\n",
            "|03/04/2019 20:48:06|       loc0|          28|\n",
            "|03/04/2019 20:53:06|       loc0|          32|\n",
            "|03/04/2019 20:58:06|       loc0|          34|\n",
            "|03/04/2019 21:03:06|       loc0|          33|\n",
            "|03/04/2019 21:08:06|       loc0|          27|\n",
            "|03/04/2019 21:13:06|       loc0|          28|\n",
            "|03/04/2019 21:18:06|       loc0|          33|\n",
            "|03/04/2019 21:23:06|       loc0|          28|\n",
            "+-------------------+-----------+------------+\n",
            "only showing top 20 rows\n",
            "\n"
          ],
          "name": "stdout"
        }
      ]
    },
    {
      "cell_type": "code",
      "metadata": {
        "colab": {
          "base_uri": "https://localhost:8080/"
        },
        "id": "YYASJWllVQLt",
        "outputId": "1e3dc6eb-fb6f-4107-95c6-7fc1863f9eec"
      },
      "source": [
        "df1.filter(df1[\"location_id\"]==\"loc1\").show()"
      ],
      "execution_count": 32,
      "outputs": [
        {
          "output_type": "stream",
          "text": [
            "+-------------------+-----------+------------+\n",
            "|         event_date|location_id|temp_celcius|\n",
            "+-------------------+-----------+------------+\n",
            "|03/04/2019 19:48:06|       loc1|          31|\n",
            "|03/04/2019 19:53:06|       loc1|          26|\n",
            "|03/04/2019 19:58:06|       loc1|          31|\n",
            "|03/04/2019 20:03:06|       loc1|          26|\n",
            "|03/04/2019 20:08:06|       loc1|          28|\n",
            "|03/04/2019 20:13:06|       loc1|          27|\n",
            "|03/04/2019 20:18:06|       loc1|          30|\n",
            "|03/04/2019 20:23:06|       loc1|          28|\n",
            "|03/04/2019 20:28:06|       loc1|          28|\n",
            "|03/04/2019 20:33:06|       loc1|          27|\n",
            "|03/04/2019 20:38:06|       loc1|          30|\n",
            "|03/04/2019 20:43:06|       loc1|          32|\n",
            "|03/04/2019 20:48:06|       loc1|          26|\n",
            "|03/04/2019 20:53:06|       loc1|          30|\n",
            "|03/04/2019 20:58:06|       loc1|          26|\n",
            "|03/04/2019 21:03:06|       loc1|          28|\n",
            "|03/04/2019 21:08:06|       loc1|          27|\n",
            "|03/04/2019 21:13:06|       loc1|          28|\n",
            "|03/04/2019 21:18:06|       loc1|          27|\n",
            "|03/04/2019 21:23:06|       loc1|          26|\n",
            "+-------------------+-----------+------------+\n",
            "only showing top 20 rows\n",
            "\n"
          ],
          "name": "stdout"
        }
      ]
    },
    {
      "cell_type": "code",
      "metadata": {
        "colab": {
          "base_uri": "https://localhost:8080/"
        },
        "id": "Dd9Z9Q6oWmPW",
        "outputId": "fe1098e2-0492-4a93-879a-da26381122b3"
      },
      "source": [
        "df1.filter(df1[\"location_id\"]==\"loc1\").count()"
      ],
      "execution_count": 33,
      "outputs": [
        {
          "output_type": "execute_result",
          "data": {
            "text/plain": [
              "1000"
            ]
          },
          "metadata": {
            "tags": []
          },
          "execution_count": 33
        }
      ]
    },
    {
      "cell_type": "code",
      "metadata": {
        "colab": {
          "base_uri": "https://localhost:8080/"
        },
        "id": "_CoWCeXGW1AK",
        "outputId": "ea61c74b-2055-4864-a47e-578c477e5718"
      },
      "source": [
        "df1.filter(df1[\"location_id\"]==\"loc0\").show()"
      ],
      "execution_count": 34,
      "outputs": [
        {
          "output_type": "stream",
          "text": [
            "+-------------------+-----------+------------+\n",
            "|         event_date|location_id|temp_celcius|\n",
            "+-------------------+-----------+------------+\n",
            "|03/04/2019 19:48:06|       loc0|          29|\n",
            "|03/04/2019 19:53:06|       loc0|          27|\n",
            "|03/04/2019 19:58:06|       loc0|          28|\n",
            "|03/04/2019 20:03:06|       loc0|          30|\n",
            "|03/04/2019 20:08:06|       loc0|          27|\n",
            "|03/04/2019 20:13:06|       loc0|          27|\n",
            "|03/04/2019 20:18:06|       loc0|          27|\n",
            "|03/04/2019 20:23:06|       loc0|          29|\n",
            "|03/04/2019 20:28:06|       loc0|          32|\n",
            "|03/04/2019 20:33:06|       loc0|          35|\n",
            "|03/04/2019 20:38:06|       loc0|          32|\n",
            "|03/04/2019 20:43:06|       loc0|          28|\n",
            "|03/04/2019 20:48:06|       loc0|          28|\n",
            "|03/04/2019 20:53:06|       loc0|          32|\n",
            "|03/04/2019 20:58:06|       loc0|          34|\n",
            "|03/04/2019 21:03:06|       loc0|          33|\n",
            "|03/04/2019 21:08:06|       loc0|          27|\n",
            "|03/04/2019 21:13:06|       loc0|          28|\n",
            "|03/04/2019 21:18:06|       loc0|          33|\n",
            "|03/04/2019 21:23:06|       loc0|          28|\n",
            "+-------------------+-----------+------------+\n",
            "only showing top 20 rows\n",
            "\n"
          ],
          "name": "stdout"
        }
      ]
    },
    {
      "cell_type": "code",
      "metadata": {
        "colab": {
          "base_uri": "https://localhost:8080/"
        },
        "id": "mQ5J-Xr2W4pR",
        "outputId": "5c677226-1a9b-4e8b-98f2-54358bc2fe46"
      },
      "source": [
        "df1.filter(df1[\"location_id\"]==\"loc0\").count()"
      ],
      "execution_count": 35,
      "outputs": [
        {
          "output_type": "execute_result",
          "data": {
            "text/plain": [
              "1000"
            ]
          },
          "metadata": {
            "tags": []
          },
          "execution_count": 35
        }
      ]
    },
    {
      "cell_type": "markdown",
      "metadata": {
        "id": "v7YerOMpXAe5"
      },
      "source": [
        "#Aggregation"
      ]
    },
    {
      "cell_type": "code",
      "metadata": {
        "colab": {
          "base_uri": "https://localhost:8080/"
        },
        "id": "gmA1iePJW7tM",
        "outputId": "31ca1e6e-b7f8-486f-c964-75ff0edcccd1"
      },
      "source": [
        "df1.groupby(\"location_id\").count().show()"
      ],
      "execution_count": 36,
      "outputs": [
        {
          "output_type": "stream",
          "text": [
            "+-----------+-----+\n",
            "|location_id|count|\n",
            "+-----------+-----+\n",
            "|     loc196| 1000|\n",
            "|     loc226| 1000|\n",
            "|     loc463| 1000|\n",
            "|     loc150| 1000|\n",
            "|     loc292| 1000|\n",
            "|     loc311| 1000|\n",
            "|      loc22| 1000|\n",
            "|     loc351| 1000|\n",
            "|     loc370| 1000|\n",
            "|     loc419| 1000|\n",
            "|      loc31| 1000|\n",
            "|     loc305| 1000|\n",
            "|      loc82| 1000|\n",
            "|      loc90| 1000|\n",
            "|     loc118| 1000|\n",
            "|     loc195| 1000|\n",
            "|     loc208| 1000|\n",
            "|      loc39| 1000|\n",
            "|      loc75| 1000|\n",
            "|     loc228| 1000|\n",
            "+-----------+-----+\n",
            "only showing top 20 rows\n",
            "\n"
          ],
          "name": "stdout"
        }
      ]
    },
    {
      "cell_type": "code",
      "metadata": {
        "colab": {
          "base_uri": "https://localhost:8080/"
        },
        "id": "L5gYTxMnXa3v",
        "outputId": "bc9dce16-1bf9-48c8-fd2c-f171a3e0e341"
      },
      "source": [
        "df1.orderBy(\"location_id\").show()"
      ],
      "execution_count": 37,
      "outputs": [
        {
          "output_type": "stream",
          "text": [
            "+-------------------+-----------+------------+\n",
            "|         event_date|location_id|temp_celcius|\n",
            "+-------------------+-----------+------------+\n",
            "|03/04/2019 21:23:06|       loc0|          28|\n",
            "|03/04/2019 20:43:06|       loc0|          28|\n",
            "|03/04/2019 21:18:06|       loc0|          33|\n",
            "|03/04/2019 20:18:06|       loc0|          27|\n",
            "|03/04/2019 20:38:06|       loc0|          32|\n",
            "|03/04/2019 20:58:06|       loc0|          34|\n",
            "|03/04/2019 21:13:06|       loc0|          28|\n",
            "|03/04/2019 19:58:06|       loc0|          28|\n",
            "|03/04/2019 20:13:06|       loc0|          27|\n",
            "|03/04/2019 20:28:06|       loc0|          32|\n",
            "|03/04/2019 20:33:06|       loc0|          35|\n",
            "|03/04/2019 20:48:06|       loc0|          28|\n",
            "|03/04/2019 20:53:06|       loc0|          32|\n",
            "|03/04/2019 21:03:06|       loc0|          33|\n",
            "|03/04/2019 21:08:06|       loc0|          27|\n",
            "|03/04/2019 19:48:06|       loc0|          29|\n",
            "|03/04/2019 19:53:06|       loc0|          27|\n",
            "|03/04/2019 20:03:06|       loc0|          30|\n",
            "|03/04/2019 20:08:06|       loc0|          27|\n",
            "|03/04/2019 20:23:06|       loc0|          29|\n",
            "+-------------------+-----------+------------+\n",
            "only showing top 20 rows\n",
            "\n"
          ],
          "name": "stdout"
        }
      ]
    },
    {
      "cell_type": "code",
      "metadata": {
        "colab": {
          "base_uri": "https://localhost:8080/"
        },
        "id": "CKeT2mhcXrut",
        "outputId": "918abf0a-5fb8-4d02-e9c0-e2aea6c63146"
      },
      "source": [
        "df1.groupby(\"location_id\").agg({'temp_celcius':'mean'}).show()"
      ],
      "execution_count": 39,
      "outputs": [
        {
          "output_type": "stream",
          "text": [
            "+-----------+-----------------+\n",
            "|location_id|avg(temp_celcius)|\n",
            "+-----------+-----------------+\n",
            "|     loc196|           29.225|\n",
            "|     loc226|           25.306|\n",
            "|     loc463|           23.317|\n",
            "|     loc150|           32.188|\n",
            "|     loc292|           29.159|\n",
            "|     loc311|           24.308|\n",
            "|      loc22|           28.251|\n",
            "|     loc351|           28.194|\n",
            "|     loc370|            29.14|\n",
            "|     loc419|           29.141|\n",
            "|      loc31|           25.196|\n",
            "|     loc305|           27.314|\n",
            "|      loc82|           27.355|\n",
            "|      loc90|           23.216|\n",
            "|     loc118|           24.219|\n",
            "|     loc195|            27.25|\n",
            "|     loc208|           26.206|\n",
            "|      loc39|           25.199|\n",
            "|      loc75|           23.209|\n",
            "|     loc228|           27.295|\n",
            "+-----------+-----------------+\n",
            "only showing top 20 rows\n",
            "\n"
          ],
          "name": "stdout"
        }
      ]
    },
    {
      "cell_type": "code",
      "metadata": {
        "colab": {
          "base_uri": "https://localhost:8080/"
        },
        "id": "jrEebbN7YFKG",
        "outputId": "d881d0f1-b196-45c1-9721-d048a29d369d"
      },
      "source": [
        "df1.groupby(\"location_id\").agg({'temp_celcius':'max'}).show()"
      ],
      "execution_count": 40,
      "outputs": [
        {
          "output_type": "stream",
          "text": [
            "+-----------+-----------------+\n",
            "|location_id|max(temp_celcius)|\n",
            "+-----------+-----------------+\n",
            "|     loc196|               36|\n",
            "|     loc226|               32|\n",
            "|     loc463|               30|\n",
            "|     loc150|               39|\n",
            "|     loc292|               36|\n",
            "|     loc311|               31|\n",
            "|      loc22|               35|\n",
            "|     loc351|               35|\n",
            "|     loc370|               36|\n",
            "|     loc419|               36|\n",
            "|     loc305|               34|\n",
            "|      loc31|               32|\n",
            "|     loc118|               31|\n",
            "|     loc195|               34|\n",
            "|     loc208|               33|\n",
            "|      loc82|               34|\n",
            "|      loc90|               30|\n",
            "|     loc228|               34|\n",
            "|      loc39|               32|\n",
            "|      loc75|               30|\n",
            "+-----------+-----------------+\n",
            "only showing top 20 rows\n",
            "\n"
          ],
          "name": "stdout"
        }
      ]
    },
    {
      "cell_type": "markdown",
      "metadata": {
        "id": "9chhqVQpYfUv"
      },
      "source": [
        "#Sampling Data"
      ]
    },
    {
      "cell_type": "code",
      "metadata": {
        "id": "iPm19pSfYOaQ"
      },
      "source": [
        "df1_s1 = df1.sample(fraction=0.1, withReplacement=False)"
      ],
      "execution_count": 41,
      "outputs": []
    },
    {
      "cell_type": "code",
      "metadata": {
        "colab": {
          "base_uri": "https://localhost:8080/"
        },
        "id": "VfWEdgJ9YrDZ",
        "outputId": "d139ba17-e466-4029-8275-9decbc5d9dd6"
      },
      "source": [
        "df1_s1.count()"
      ],
      "execution_count": 42,
      "outputs": [
        {
          "output_type": "execute_result",
          "data": {
            "text/plain": [
              "50055"
            ]
          },
          "metadata": {
            "tags": []
          },
          "execution_count": 42
        }
      ]
    },
    {
      "cell_type": "code",
      "metadata": {
        "colab": {
          "base_uri": "https://localhost:8080/"
        },
        "id": "39a1CthbYtnf",
        "outputId": "d986faba-955e-43ea-c428-5d09703b6fa3"
      },
      "source": [
        "df1_s1.groupby(\"location_id\").agg({'temp_celcius':'mean'}).show()"
      ],
      "execution_count": 43,
      "outputs": [
        {
          "output_type": "stream",
          "text": [
            "+-----------+------------------+\n",
            "|location_id| avg(temp_celcius)|\n",
            "+-----------+------------------+\n",
            "|     loc196| 29.21590909090909|\n",
            "|     loc226|25.275510204081634|\n",
            "|     loc463|23.119266055045873|\n",
            "|     loc150| 31.98989898989899|\n",
            "|     loc292|29.144329896907216|\n",
            "|     loc311|24.121495327102803|\n",
            "|      loc22| 28.15730337078652|\n",
            "|     loc351|28.010752688172044|\n",
            "|     loc370| 29.23404255319149|\n",
            "|     loc419|             29.48|\n",
            "|      loc31| 24.91891891891892|\n",
            "|     loc305|27.214953271028037|\n",
            "|      loc82|27.184782608695652|\n",
            "|      loc90|23.329896907216494|\n",
            "|     loc118|24.225225225225227|\n",
            "|     loc195|27.323809523809523|\n",
            "|     loc208|26.153061224489797|\n",
            "|      loc39|25.628865979381445|\n",
            "|      loc75| 23.21698113207547|\n",
            "|     loc228|27.254901960784313|\n",
            "+-----------+------------------+\n",
            "only showing top 20 rows\n",
            "\n"
          ],
          "name": "stdout"
        }
      ]
    },
    {
      "cell_type": "code",
      "metadata": {
        "colab": {
          "base_uri": "https://localhost:8080/"
        },
        "id": "nY7Af95IY5p_",
        "outputId": "6647ca85-6330-4477-fa19-72d4536aeff6"
      },
      "source": [
        "df1_s1.groupby(\"location_id\").agg({'temp_celcius':'mean'}).orderBy(\"location_id\").show()"
      ],
      "execution_count": 44,
      "outputs": [
        {
          "output_type": "stream",
          "text": [
            "+-----------+------------------+\n",
            "|location_id| avg(temp_celcius)|\n",
            "+-----------+------------------+\n",
            "|       loc0|29.398230088495577|\n",
            "|       loc1|28.278350515463917|\n",
            "|      loc10|25.275862068965516|\n",
            "|     loc100|          26.84375|\n",
            "|     loc101| 25.29126213592233|\n",
            "|     loc102| 30.43010752688172|\n",
            "|     loc103|  25.6734693877551|\n",
            "|     loc104|26.108695652173914|\n",
            "|     loc105| 26.03448275862069|\n",
            "|     loc106|           27.6625|\n",
            "|     loc107|33.337078651685395|\n",
            "|     loc108|32.148148148148145|\n",
            "|     loc109|24.373626373626372|\n",
            "|      loc11|25.186046511627907|\n",
            "|     loc110|25.977272727272727|\n",
            "|     loc111|31.352941176470587|\n",
            "|     loc112| 33.58490566037736|\n",
            "|     loc113|30.703296703296704|\n",
            "|     loc114|29.221052631578946|\n",
            "|     loc115|23.301075268817204|\n",
            "+-----------+------------------+\n",
            "only showing top 20 rows\n",
            "\n"
          ],
          "name": "stdout"
        }
      ]
    },
    {
      "cell_type": "code",
      "metadata": {
        "colab": {
          "base_uri": "https://localhost:8080/"
        },
        "id": "0sFQDfAJZCLL",
        "outputId": "3b8a5000-ddca-47b5-b8a7-ff2abe7d4544"
      },
      "source": [
        "df1.groupby(\"location_id\").agg({'temp_celcius':'mean'}).orderBy(\"location_id\").show()"
      ],
      "execution_count": 45,
      "outputs": [
        {
          "output_type": "stream",
          "text": [
            "+-----------+-----------------+\n",
            "|location_id|avg(temp_celcius)|\n",
            "+-----------+-----------------+\n",
            "|       loc0|           29.176|\n",
            "|       loc1|           28.246|\n",
            "|      loc10|           25.337|\n",
            "|     loc100|           27.297|\n",
            "|     loc101|           25.317|\n",
            "|     loc102|           30.327|\n",
            "|     loc103|           25.341|\n",
            "|     loc104|           26.204|\n",
            "|     loc105|           26.217|\n",
            "|     loc106|           27.201|\n",
            "|     loc107|           33.268|\n",
            "|     loc108|           32.195|\n",
            "|     loc109|           24.138|\n",
            "|      loc11|           25.308|\n",
            "|     loc110|           26.239|\n",
            "|     loc111|           31.391|\n",
            "|     loc112|           33.359|\n",
            "|     loc113|           30.345|\n",
            "|     loc114|           29.261|\n",
            "|     loc115|           23.239|\n",
            "+-----------+-----------------+\n",
            "only showing top 20 rows\n",
            "\n"
          ],
          "name": "stdout"
        }
      ]
    },
    {
      "cell_type": "markdown",
      "metadata": {
        "id": "t-tmpYSLZay8"
      },
      "source": [
        "#Save Data"
      ]
    },
    {
      "cell_type": "code",
      "metadata": {
        "id": "YarmWUmiZQL3"
      },
      "source": [
        "df1.write.csv('df1.csv')"
      ],
      "execution_count": 46,
      "outputs": []
    },
    {
      "cell_type": "code",
      "metadata": {
        "colab": {
          "base_uri": "https://localhost:8080/"
        },
        "id": "mduPr_VrZnsP",
        "outputId": "58fe53bf-953e-4adb-8e55-9d7eee650d57"
      },
      "source": [
        "! ls df1.csv"
      ],
      "execution_count": 47,
      "outputs": [
        {
          "output_type": "stream",
          "text": [
            "part-00000-f1917c9d-d862-4ae7-b51b-8cefaa44f29c-c000.csv  _SUCCESS\n",
            "part-00001-f1917c9d-d862-4ae7-b51b-8cefaa44f29c-c000.csv\n"
          ],
          "name": "stdout"
        }
      ]
    },
    {
      "cell_type": "code",
      "metadata": {
        "colab": {
          "base_uri": "https://localhost:8080/"
        },
        "id": "M6cfyqs0Zrh_",
        "outputId": "a98e8714-4a54-419c-e452-03a0e5991ffd"
      },
      "source": [
        "! head df1.csv/part-00000-f1917c9d-d862-4ae7-b51b-8cefaa44f29c-c000.csv"
      ],
      "execution_count": 48,
      "outputs": [
        {
          "output_type": "stream",
          "text": [
            "03/04/2019 19:48:06,loc0,29\n",
            "03/04/2019 19:53:06,loc0,27\n",
            "03/04/2019 19:58:06,loc0,28\n",
            "03/04/2019 20:03:06,loc0,30\n",
            "03/04/2019 20:08:06,loc0,27\n",
            "03/04/2019 20:13:06,loc0,27\n",
            "03/04/2019 20:18:06,loc0,27\n",
            "03/04/2019 20:23:06,loc0,29\n",
            "03/04/2019 20:28:06,loc0,32\n",
            "03/04/2019 20:33:06,loc0,35\n"
          ],
          "name": "stdout"
        }
      ]
    },
    {
      "cell_type": "code",
      "metadata": {
        "id": "clJm3LSbZ8ur"
      },
      "source": [
        "df1.write.json('df1.json')"
      ],
      "execution_count": 49,
      "outputs": []
    },
    {
      "cell_type": "code",
      "metadata": {
        "colab": {
          "base_uri": "https://localhost:8080/"
        },
        "id": "VQcay1eZaEKQ",
        "outputId": "6e4ca45c-6110-473a-8de0-481a6aa05840"
      },
      "source": [
        "! ls df1.json"
      ],
      "execution_count": 50,
      "outputs": [
        {
          "output_type": "stream",
          "text": [
            "part-00000-1eb63fc5-2cbb-4f29-a800-6dc39e3f996f-c000.json  _SUCCESS\n",
            "part-00001-1eb63fc5-2cbb-4f29-a800-6dc39e3f996f-c000.json\n"
          ],
          "name": "stdout"
        }
      ]
    },
    {
      "cell_type": "code",
      "metadata": {
        "colab": {
          "base_uri": "https://localhost:8080/"
        },
        "id": "Wj4raIBNaHIn",
        "outputId": "93d3d672-a05b-4104-93da-331f0769d5eb"
      },
      "source": [
        "! head df1.json/part-00000-1eb63fc5-2cbb-4f29-a800-6dc39e3f996f-c000.json"
      ],
      "execution_count": 52,
      "outputs": [
        {
          "output_type": "stream",
          "text": [
            "{\"event_date\":\"03/04/2019 19:48:06\",\"location_id\":\"loc0\",\"temp_celcius\":\"29\"}\n",
            "{\"event_date\":\"03/04/2019 19:53:06\",\"location_id\":\"loc0\",\"temp_celcius\":\"27\"}\n",
            "{\"event_date\":\"03/04/2019 19:58:06\",\"location_id\":\"loc0\",\"temp_celcius\":\"28\"}\n",
            "{\"event_date\":\"03/04/2019 20:03:06\",\"location_id\":\"loc0\",\"temp_celcius\":\"30\"}\n",
            "{\"event_date\":\"03/04/2019 20:08:06\",\"location_id\":\"loc0\",\"temp_celcius\":\"27\"}\n",
            "{\"event_date\":\"03/04/2019 20:13:06\",\"location_id\":\"loc0\",\"temp_celcius\":\"27\"}\n",
            "{\"event_date\":\"03/04/2019 20:18:06\",\"location_id\":\"loc0\",\"temp_celcius\":\"27\"}\n",
            "{\"event_date\":\"03/04/2019 20:23:06\",\"location_id\":\"loc0\",\"temp_celcius\":\"29\"}\n",
            "{\"event_date\":\"03/04/2019 20:28:06\",\"location_id\":\"loc0\",\"temp_celcius\":\"32\"}\n",
            "{\"event_date\":\"03/04/2019 20:33:06\",\"location_id\":\"loc0\",\"temp_celcius\":\"35\"}\n"
          ],
          "name": "stdout"
        }
      ]
    },
    {
      "cell_type": "markdown",
      "metadata": {
        "id": "gI6x0oRGaQci"
      },
      "source": [
        "#SQL for DataFrames"
      ]
    },
    {
      "cell_type": "code",
      "metadata": {
        "id": "LT-iJbdkaKdp"
      },
      "source": [
        "df2.createOrReplaceTempView('utilization')"
      ],
      "execution_count": 59,
      "outputs": []
    },
    {
      "cell_type": "code",
      "metadata": {
        "id": "Wqsg9kTlsRju"
      },
      "source": [
        "df2_sql= spark.sql(\"Select * from utilization LIMIT 10\") "
      ],
      "execution_count": 60,
      "outputs": []
    },
    {
      "cell_type": "code",
      "metadata": {
        "colab": {
          "base_uri": "https://localhost:8080/"
        },
        "id": "R2LWoSdEsgzS",
        "outputId": "f07047fc-0339-4922-97fa-d1f2d38a45db"
      },
      "source": [
        "df2.show()"
      ],
      "execution_count": 61,
      "outputs": [
        {
          "output_type": "stream",
          "text": [
            "+---------------+-------------------+-----------+---------+-------------+\n",
            "|cpu_utilization|     event_datetime|free_memory|server_id|session_count|\n",
            "+---------------+-------------------+-----------+---------+-------------+\n",
            "|           0.57|03/05/2019 08:06:14|       0.51|      100|           47|\n",
            "|           0.47|03/05/2019 08:11:14|       0.62|      100|           43|\n",
            "|           0.56|03/05/2019 08:16:14|       0.57|      100|           62|\n",
            "|           0.57|03/05/2019 08:21:14|       0.56|      100|           50|\n",
            "|           0.35|03/05/2019 08:26:14|       0.46|      100|           43|\n",
            "|           0.41|03/05/2019 08:31:14|       0.58|      100|           48|\n",
            "|           0.57|03/05/2019 08:36:14|       0.35|      100|           58|\n",
            "|           0.41|03/05/2019 08:41:14|        0.4|      100|           58|\n",
            "|           0.53|03/05/2019 08:46:14|       0.35|      100|           62|\n",
            "|           0.51|03/05/2019 08:51:14|        0.6|      100|           45|\n",
            "|           0.32|03/05/2019 08:56:14|       0.37|      100|           47|\n",
            "|           0.62|03/05/2019 09:01:14|       0.59|      100|           60|\n",
            "|           0.66|03/05/2019 09:06:14|       0.72|      100|           57|\n",
            "|           0.54|03/05/2019 09:11:14|       0.54|      100|           44|\n",
            "|           0.29|03/05/2019 09:16:14|        0.4|      100|           47|\n",
            "|           0.43|03/05/2019 09:21:14|       0.68|      100|           66|\n",
            "|           0.49|03/05/2019 09:26:14|       0.66|      100|           65|\n",
            "|           0.64|03/05/2019 09:31:14|       0.55|      100|           66|\n",
            "|           0.42|03/05/2019 09:36:14|        0.6|      100|           42|\n",
            "|           0.55|03/05/2019 09:41:14|       0.59|      100|           63|\n",
            "+---------------+-------------------+-----------+---------+-------------+\n",
            "only showing top 20 rows\n",
            "\n"
          ],
          "name": "stdout"
        }
      ]
    },
    {
      "cell_type": "code",
      "metadata": {
        "colab": {
          "base_uri": "https://localhost:8080/"
        },
        "id": "l8PURAlWssPq",
        "outputId": "40fa2922-d5c1-49be-b46d-8883708cdfce"
      },
      "source": [
        "df2_sql.count()"
      ],
      "execution_count": 63,
      "outputs": [
        {
          "output_type": "execute_result",
          "data": {
            "text/plain": [
              "10"
            ]
          },
          "metadata": {
            "tags": []
          },
          "execution_count": 63
        }
      ]
    },
    {
      "cell_type": "code",
      "metadata": {
        "id": "YLRx160ws-EC"
      },
      "source": [
        "df2_sql= spark.sql(\"Select server_id AS s_id, session_count AS sess_id from utilization LIMIT 10\") "
      ],
      "execution_count": 66,
      "outputs": []
    },
    {
      "cell_type": "code",
      "metadata": {
        "colab": {
          "base_uri": "https://localhost:8080/"
        },
        "id": "AhxwKNKAtNcV",
        "outputId": "82da63f3-352e-4547-ca2e-7b8a4919235f"
      },
      "source": [
        "df2_sql.show()"
      ],
      "execution_count": 67,
      "outputs": [
        {
          "output_type": "stream",
          "text": [
            "+----+-------+\n",
            "|s_id|sess_id|\n",
            "+----+-------+\n",
            "| 100|     47|\n",
            "| 100|     43|\n",
            "| 100|     62|\n",
            "| 100|     50|\n",
            "| 100|     43|\n",
            "| 100|     48|\n",
            "| 100|     58|\n",
            "| 100|     58|\n",
            "| 100|     62|\n",
            "| 100|     45|\n",
            "+----+-------+\n",
            "\n"
          ],
          "name": "stdout"
        }
      ]
    },
    {
      "cell_type": "markdown",
      "metadata": {
        "id": "9HCHluH6tesz"
      },
      "source": [
        "#Filter using SQL\n"
      ]
    },
    {
      "cell_type": "code",
      "metadata": {
        "id": "vX2JC49GtSNn"
      },
      "source": [
        "df2_sql= spark.sql(\"Select * from utilization where server_id = 120\") "
      ],
      "execution_count": 68,
      "outputs": []
    },
    {
      "cell_type": "code",
      "metadata": {
        "colab": {
          "base_uri": "https://localhost:8080/"
        },
        "id": "A6x5jLxlt4z5",
        "outputId": "ed1ec23c-cad2-464a-ff6e-8e8347ebefce"
      },
      "source": [
        "df2_sql.show()"
      ],
      "execution_count": 69,
      "outputs": [
        {
          "output_type": "stream",
          "text": [
            "+---------------+-------------------+-----------+---------+-------------+\n",
            "|cpu_utilization|     event_datetime|free_memory|server_id|session_count|\n",
            "+---------------+-------------------+-----------+---------+-------------+\n",
            "|           0.66|03/05/2019 08:06:48|       0.31|      120|           54|\n",
            "|           0.58|03/05/2019 08:11:48|       0.38|      120|           64|\n",
            "|           0.55|03/05/2019 08:16:48|       0.61|      120|           54|\n",
            "|            0.7|03/05/2019 08:21:48|       0.35|      120|           80|\n",
            "|            0.6|03/05/2019 08:26:48|       0.39|      120|           71|\n",
            "|           0.53|03/05/2019 08:31:48|       0.35|      120|           49|\n",
            "|           0.73|03/05/2019 08:36:48|       0.42|      120|           73|\n",
            "|           0.41|03/05/2019 08:41:48|        0.6|      120|           72|\n",
            "|           0.62|03/05/2019 08:46:48|       0.57|      120|           57|\n",
            "|           0.67|03/05/2019 08:51:48|       0.44|      120|           78|\n",
            "|           0.67|03/05/2019 08:56:48|       0.38|      120|           73|\n",
            "|           0.39|03/05/2019 09:01:48|       0.47|      120|           58|\n",
            "|            0.5|03/05/2019 09:06:48|       0.29|      120|           78|\n",
            "|           0.38|03/05/2019 09:11:48|       0.38|      120|           56|\n",
            "|           0.53|03/05/2019 09:16:48|       0.38|      120|           47|\n",
            "|           0.74|03/05/2019 09:21:48|       0.25|      120|           69|\n",
            "|           0.53|03/05/2019 09:26:48|       0.57|      120|           73|\n",
            "|           0.54|03/05/2019 09:31:48|       0.64|      120|           65|\n",
            "|            0.7|03/05/2019 09:36:48|       0.52|      120|           55|\n",
            "|           0.54|03/05/2019 09:41:48|       0.27|      120|           74|\n",
            "+---------------+-------------------+-----------+---------+-------------+\n",
            "only showing top 20 rows\n",
            "\n"
          ],
          "name": "stdout"
        }
      ]
    },
    {
      "cell_type": "code",
      "metadata": {
        "colab": {
          "base_uri": "https://localhost:8080/"
        },
        "id": "TMRIAXD3t_OM",
        "outputId": "8589d53c-edeb-44ff-bf6a-0e9832aa3c42"
      },
      "source": [
        "df2_sql.count()"
      ],
      "execution_count": 70,
      "outputs": [
        {
          "output_type": "execute_result",
          "data": {
            "text/plain": [
              "10000"
            ]
          },
          "metadata": {
            "tags": []
          },
          "execution_count": 70
        }
      ]
    },
    {
      "cell_type": "code",
      "metadata": {
        "id": "2YG8bcZ6uC7X"
      },
      "source": [
        "df2_sql= spark.sql(\"Select server_id,session_count from utilization where session_count > 70\") "
      ],
      "execution_count": 74,
      "outputs": []
    },
    {
      "cell_type": "code",
      "metadata": {
        "colab": {
          "base_uri": "https://localhost:8080/"
        },
        "id": "ks8i1e32uPW8",
        "outputId": "3362721b-f276-4e02-fb48-7ebc166f771a"
      },
      "source": [
        "df2_sql.show()"
      ],
      "execution_count": 75,
      "outputs": [
        {
          "output_type": "stream",
          "text": [
            "+---------+-------------+\n",
            "|server_id|session_count|\n",
            "+---------+-------------+\n",
            "|      100|           71|\n",
            "|      100|           71|\n",
            "|      100|           71|\n",
            "|      100|           71|\n",
            "|      100|           72|\n",
            "|      100|           72|\n",
            "|      100|           71|\n",
            "|      100|           71|\n",
            "|      100|           71|\n",
            "|      100|           72|\n",
            "|      100|           71|\n",
            "|      100|           72|\n",
            "|      100|           71|\n",
            "|      100|           71|\n",
            "|      100|           72|\n",
            "|      100|           71|\n",
            "|      100|           72|\n",
            "|      100|           72|\n",
            "|      100|           71|\n",
            "|      100|           71|\n",
            "+---------+-------------+\n",
            "only showing top 20 rows\n",
            "\n"
          ],
          "name": "stdout"
        }
      ]
    },
    {
      "cell_type": "code",
      "metadata": {
        "colab": {
          "base_uri": "https://localhost:8080/"
        },
        "id": "I681mn7bux6S",
        "outputId": "f6d4a53b-cd1a-433b-95ef-29fbed8d71cb"
      },
      "source": [
        "df2_sql.count()"
      ],
      "execution_count": 76,
      "outputs": [
        {
          "output_type": "execute_result",
          "data": {
            "text/plain": [
              "239659"
            ]
          },
          "metadata": {
            "tags": []
          },
          "execution_count": 76
        }
      ]
    },
    {
      "cell_type": "code",
      "metadata": {
        "id": "GHZowfG6u9CS"
      },
      "source": [
        "df2_sql= spark.sql(\"Select server_id,session_count from utilization where session_count > 70 and server_id = 120\")"
      ],
      "execution_count": 83,
      "outputs": []
    },
    {
      "cell_type": "code",
      "metadata": {
        "colab": {
          "base_uri": "https://localhost:8080/"
        },
        "id": "hK5W6zSnweST",
        "outputId": "1f943176-2bd1-4117-a2ce-39531f4b0925"
      },
      "source": [
        "df2_sql.show()"
      ],
      "execution_count": 89,
      "outputs": [
        {
          "output_type": "stream",
          "text": [
            "+---------+-------------+\n",
            "|server_id|session_count|\n",
            "+---------+-------------+\n",
            "|      120|           80|\n",
            "|      120|           80|\n",
            "|      120|           80|\n",
            "|      120|           80|\n",
            "|      120|           80|\n",
            "|      120|           80|\n",
            "|      120|           80|\n",
            "|      120|           80|\n",
            "|      120|           80|\n",
            "|      120|           80|\n",
            "|      120|           80|\n",
            "|      120|           80|\n",
            "|      120|           80|\n",
            "|      120|           80|\n",
            "|      120|           80|\n",
            "|      120|           80|\n",
            "|      120|           80|\n",
            "|      120|           80|\n",
            "|      120|           80|\n",
            "|      120|           80|\n",
            "+---------+-------------+\n",
            "only showing top 20 rows\n",
            "\n"
          ],
          "name": "stdout"
        }
      ]
    },
    {
      "cell_type": "code",
      "metadata": {
        "colab": {
          "base_uri": "https://localhost:8080/"
        },
        "id": "9u8zFgljvEWY",
        "outputId": "c96fc9a4-d00c-49a2-82e6-fa3d329776a4"
      },
      "source": [
        "df2_sql.count()"
      ],
      "execution_count": 84,
      "outputs": [
        {
          "output_type": "execute_result",
          "data": {
            "text/plain": [
              "2733"
            ]
          },
          "metadata": {
            "tags": []
          },
          "execution_count": 84
        }
      ]
    },
    {
      "cell_type": "code",
      "metadata": {
        "id": "hA5z--6WvHH6"
      },
      "source": [
        "df2_sql= spark.sql(\"Select server_id,session_count from utilization where session_count > 70 and server_id = 120 ORDER BY session_count asc \")"
      ],
      "execution_count": 90,
      "outputs": []
    },
    {
      "cell_type": "code",
      "metadata": {
        "colab": {
          "base_uri": "https://localhost:8080/"
        },
        "id": "SQSnU9UDwRqB",
        "outputId": "747963ec-57aa-4d1b-ae7f-e8fc9c6ebce9"
      },
      "source": [
        "df2_sql.show()"
      ],
      "execution_count": 91,
      "outputs": [
        {
          "output_type": "stream",
          "text": [
            "+---------+-------------+\n",
            "|server_id|session_count|\n",
            "+---------+-------------+\n",
            "|      120|           71|\n",
            "|      120|           71|\n",
            "|      120|           71|\n",
            "|      120|           71|\n",
            "|      120|           71|\n",
            "|      120|           71|\n",
            "|      120|           71|\n",
            "|      120|           71|\n",
            "|      120|           71|\n",
            "|      120|           71|\n",
            "|      120|           71|\n",
            "|      120|           71|\n",
            "|      120|           71|\n",
            "|      120|           71|\n",
            "|      120|           71|\n",
            "|      120|           71|\n",
            "|      120|           71|\n",
            "|      120|           71|\n",
            "|      120|           71|\n",
            "|      120|           71|\n",
            "+---------+-------------+\n",
            "only showing top 20 rows\n",
            "\n"
          ],
          "name": "stdout"
        }
      ]
    },
    {
      "cell_type": "markdown",
      "metadata": {
        "id": "0BqMomExwr3j"
      },
      "source": [
        "#AGGREGATE with SQL"
      ]
    },
    {
      "cell_type": "code",
      "metadata": {
        "colab": {
          "base_uri": "https://localhost:8080/"
        },
        "id": "-1wSWv26wb29",
        "outputId": "a5bdf683-3391-49a9-9be6-a06356b60a30"
      },
      "source": [
        "df_count = spark.sql(\"Select count(*) from utilization\")\n",
        "df_count.show()"
      ],
      "execution_count": 94,
      "outputs": [
        {
          "output_type": "stream",
          "text": [
            "+--------+\n",
            "|count(1)|\n",
            "+--------+\n",
            "|  500000|\n",
            "+--------+\n",
            "\n"
          ],
          "name": "stdout"
        }
      ]
    },
    {
      "cell_type": "code",
      "metadata": {
        "colab": {
          "base_uri": "https://localhost:8080/"
        },
        "id": "0MGQywZdw9iL",
        "outputId": "762f55a7-3356-417e-cb4d-44e55f709ffa"
      },
      "source": [
        "df_count = spark.sql(\"Select count(*) from utilization where Session_count>70\")\n",
        "df_count.show()"
      ],
      "execution_count": 95,
      "outputs": [
        {
          "output_type": "stream",
          "text": [
            "+--------+\n",
            "|count(1)|\n",
            "+--------+\n",
            "|  239659|\n",
            "+--------+\n",
            "\n"
          ],
          "name": "stdout"
        }
      ]
    },
    {
      "cell_type": "code",
      "metadata": {
        "colab": {
          "base_uri": "https://localhost:8080/"
        },
        "id": "BGKaFnwUxM-5",
        "outputId": "02bc656b-55e2-43e2-a8ba-b46e7ff16f25"
      },
      "source": [
        "df_count = spark.sql(\"Select server_id ,count(*) from utilization where Session_count>70 group by server_id\")\n",
        "df_count.show()"
      ],
      "execution_count": 97,
      "outputs": [
        {
          "output_type": "stream",
          "text": [
            "+---------+--------+\n",
            "|server_id|count(1)|\n",
            "+---------+--------+\n",
            "|      112|    7425|\n",
            "|      113|    9418|\n",
            "|      130|    2891|\n",
            "|      126|    6365|\n",
            "|      149|    8288|\n",
            "|      110|    2826|\n",
            "|      136|    4316|\n",
            "|      144|    6220|\n",
            "|      116|    1167|\n",
            "|      145|    9304|\n",
            "|      143|     144|\n",
            "|      107|    5646|\n",
            "|      146|    7072|\n",
            "|      103|    8744|\n",
            "|      139|    7383|\n",
            "|      114|    2128|\n",
            "|      115|    5284|\n",
            "|      104|    7366|\n",
            "|      120|    2733|\n",
            "|      128|    3719|\n",
            "+---------+--------+\n",
            "only showing top 20 rows\n",
            "\n"
          ],
          "name": "stdout"
        }
      ]
    },
    {
      "cell_type": "code",
      "metadata": {
        "colab": {
          "base_uri": "https://localhost:8080/"
        },
        "id": "cPpDCI_CxZYF",
        "outputId": "4111dcae-6795-43c1-a39f-98aebbb96bfb"
      },
      "source": [
        "df_count = spark.sql(\"Select server_id ,count(*) from utilization where Session_count>70 group by server_id order by count(*) desc\")\n",
        "df_count.show()"
      ],
      "execution_count": 98,
      "outputs": [
        {
          "output_type": "stream",
          "text": [
            "+---------+--------+\n",
            "|server_id|count(1)|\n",
            "+---------+--------+\n",
            "|      101|    9808|\n",
            "|      113|    9418|\n",
            "|      145|    9304|\n",
            "|      103|    8744|\n",
            "|      102|    8586|\n",
            "|      133|    8583|\n",
            "|      108|    8375|\n",
            "|      149|    8288|\n",
            "|      137|    8248|\n",
            "|      148|    8027|\n",
            "|      123|    7918|\n",
            "|      118|    7913|\n",
            "|      112|    7425|\n",
            "|      139|    7383|\n",
            "|      104|    7366|\n",
            "|      121|    7084|\n",
            "|      142|    7084|\n",
            "|      146|    7072|\n",
            "|      126|    6365|\n",
            "|      144|    6220|\n",
            "+---------+--------+\n",
            "only showing top 20 rows\n",
            "\n"
          ],
          "name": "stdout"
        }
      ]
    },
    {
      "cell_type": "code",
      "metadata": {
        "colab": {
          "base_uri": "https://localhost:8080/"
        },
        "id": "1pmsHn6wxlOv",
        "outputId": "68b019fe-664f-45a3-b0af-22b9150f7a3a"
      },
      "source": [
        "df_count = spark.sql(\"Select server_id ,min(session_count), max(session_count), round(avg(session_count),2) from utilization where Session_count>70 group by server_id\")\n",
        "df_count.show()"
      ],
      "execution_count": 100,
      "outputs": [
        {
          "output_type": "stream",
          "text": [
            "+---------+------------------+------------------+----------------------------+\n",
            "|server_id|min(session_count)|max(session_count)|round(avg(session_count), 2)|\n",
            "+---------+------------------+------------------+----------------------------+\n",
            "|      112|                71|                97|                       83.55|\n",
            "|      113|                71|               103|                       86.96|\n",
            "|      130|                71|                80|                       75.51|\n",
            "|      126|                71|                93|                       81.56|\n",
            "|      149|                71|                99|                       84.96|\n",
            "|      110|                71|                80|                       75.47|\n",
            "|      136|                71|                85|                       77.96|\n",
            "|      144|                71|                92|                       81.38|\n",
            "|      116|                71|                75|                       72.62|\n",
            "|      145|                71|               103|                       86.98|\n",
            "|      143|                71|                71|                        71.0|\n",
            "|      107|                71|                90|                       80.35|\n",
            "|      146|                71|                95|                       82.95|\n",
            "|      103|                71|               101|                       85.76|\n",
            "|      139|                71|                96|                       83.33|\n",
            "|      114|                71|                78|                       74.18|\n",
            "|      115|                71|                89|                        79.7|\n",
            "|      104|                71|                96|                       83.35|\n",
            "|      120|                71|                80|                       75.37|\n",
            "|      128|                71|                83|                       76.93|\n",
            "+---------+------------------+------------------+----------------------------+\n",
            "only showing top 20 rows\n",
            "\n"
          ],
          "name": "stdout"
        }
      ]
    },
    {
      "cell_type": "markdown",
      "metadata": {
        "id": "J53jQEofx8Ak"
      },
      "source": [
        "#Join with SQL"
      ]
    },
    {
      "cell_type": "code",
      "metadata": {
        "id": "swyZwr2Dxx4m"
      },
      "source": [
        "server_csv_df = \"server_name.csv\"\n",
        "df_server = spark.read.format(\"csv\").option(\"header\",\"true\").load(server_csv_df)"
      ],
      "execution_count": 103,
      "outputs": []
    },
    {
      "cell_type": "code",
      "metadata": {
        "colab": {
          "base_uri": "https://localhost:8080/"
        },
        "id": "-A8LwKH8yeke",
        "outputId": "96f48918-94b5-4c37-a5ee-70a03e001e84"
      },
      "source": [
        "df_server.show()"
      ],
      "execution_count": 104,
      "outputs": [
        {
          "output_type": "stream",
          "text": [
            "+---------+-----------+\n",
            "|server_id|server_name|\n",
            "+---------+-----------+\n",
            "|      100| 100 Server|\n",
            "|      101| 101 Server|\n",
            "|      102| 102 Server|\n",
            "|      103| 103 Server|\n",
            "|      104| 104 Server|\n",
            "|      105| 105 Server|\n",
            "|      106| 106 Server|\n",
            "|      107| 107 Server|\n",
            "|      108| 108 Server|\n",
            "|      109| 109 Server|\n",
            "|      110| 110 Server|\n",
            "|      111| 111 Server|\n",
            "|      112| 112 Server|\n",
            "|      113| 113 Server|\n",
            "|      114| 114 Server|\n",
            "|      115| 115 Server|\n",
            "|      116| 116 Server|\n",
            "|      117| 117 Server|\n",
            "|      118| 118 Server|\n",
            "|      119| 119 Server|\n",
            "+---------+-----------+\n",
            "only showing top 20 rows\n",
            "\n"
          ],
          "name": "stdout"
        }
      ]
    },
    {
      "cell_type": "code",
      "metadata": {
        "id": "45xRqG0HymDs"
      },
      "source": [
        "df_server.createOrReplaceTempView(\"server_name\")"
      ],
      "execution_count": 105,
      "outputs": []
    },
    {
      "cell_type": "code",
      "metadata": {
        "colab": {
          "base_uri": "https://localhost:8080/"
        },
        "id": "QYOA6Cpey13D",
        "outputId": "8382b4f7-bc40-4de5-e942-cca5dac089cd"
      },
      "source": [
        "df_count = spark.sql(\"Select distinct server_id from utilization Order by server_id\")\n",
        "df_count.show()"
      ],
      "execution_count": 107,
      "outputs": [
        {
          "output_type": "stream",
          "text": [
            "+---------+\n",
            "|server_id|\n",
            "+---------+\n",
            "|      100|\n",
            "|      101|\n",
            "|      102|\n",
            "|      103|\n",
            "|      104|\n",
            "|      105|\n",
            "|      106|\n",
            "|      107|\n",
            "|      108|\n",
            "|      109|\n",
            "|      110|\n",
            "|      111|\n",
            "|      112|\n",
            "|      113|\n",
            "|      114|\n",
            "|      115|\n",
            "|      116|\n",
            "|      117|\n",
            "|      118|\n",
            "|      119|\n",
            "+---------+\n",
            "only showing top 20 rows\n",
            "\n"
          ],
          "name": "stdout"
        }
      ]
    },
    {
      "cell_type": "code",
      "metadata": {
        "id": "QOBrH0W8zDr9"
      },
      "source": [
        ""
      ],
      "execution_count": null,
      "outputs": []
    }
  ]
}